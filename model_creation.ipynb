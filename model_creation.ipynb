{
 "cells": [
  {
   "cell_type": "code",
   "execution_count": 1,
   "id": "4cbec364",
   "metadata": {},
   "outputs": [
    {
     "name": "stdout",
     "output_type": "stream",
     "text": [
      "Downloading data from https://storage.googleapis.com/tensorflow/keras-applications/mobilenet_v2/mobilenet_v2_weights_tf_dim_ordering_tf_kernels_1.0_224.h5\n",
      "14536120/14536120 [==============================] - 5s 0us/step\n",
      "7/7 [==============================] - 145s 12s/step - loss: 0.3382 - accuracy: 0.8780\n"
     ]
    },
    {
     "name": "stderr",
     "output_type": "stream",
     "text": [
      "C:\\Users\\Jhon-Rhey\\anaconda3\\Lib\\site-packages\\keras\\src\\engine\\training.py:3000: UserWarning: You are saving your model as an HDF5 file via `model.save()`. This file format is considered legacy. We recommend using instead the native Keras format, e.g. `model.save('my_model.keras')`.\n",
      "  saving_api.save_model(\n"
     ]
    }
   ],
   "source": [
    "import tensorflow as tf\n",
    "import cv2\n",
    "import os\n",
    "import matplotlib.pyplot as plt\n",
    "import numpy as np\n",
    "from tensorflow.keras import layers, Model\n",
    "\n",
    "# Define data directory and classes\n",
    "data_directory = \"train_short/\"\n",
    "Classes = [\"0\"]\n",
    "\n",
    "# Define image size for resizing\n",
    "img_size = 224\n",
    "\n",
    "# Create training data from images\n",
    "training_data = []\n",
    "\n",
    "def create_training_data():\n",
    "    for category in Classes:\n",
    "        path = os.path.join(data_directory, category)\n",
    "        class_num = Classes.index(category)\n",
    "        for img in os.listdir(path):\n",
    "            try:\n",
    "                img_array = cv2.imread(os.path.join(path, img))\n",
    "                new_array = cv2.resize(img_array, (img_size, img_size))\n",
    "                training_data.append([new_array, class_num])\n",
    "            except Exception as e:\n",
    "                pass\n",
    "\n",
    "create_training_data()\n",
    "\n",
    "# Shuffle the training data\n",
    "import random\n",
    "\n",
    "random.shuffle(training_data)\n",
    "\n",
    "# Separate features (x) and labels (y)\n",
    "x = []\n",
    "y = []\n",
    "\n",
    "for features, label in training_data:\n",
    "    x.append(features)\n",
    "    y.append(label)\n",
    "\n",
    "x = np.array(x).reshape(-1, img_size, img_size, 3)  # Convert to 4-dimension\n",
    "x = x / 255.0  # Normalize the images\n",
    "\n",
    "y = np.array(y)\n",
    "\n",
    "# Load a pre-trained MobileNetV2 model\n",
    "model = tf.keras.applications.MobileNetV2()\n",
    "\n",
    "# Create a new model by adding custom layers on top of MobileNetV2\n",
    "base_input = model.layers[0].input\n",
    "base_output = model.layers[-2].output\n",
    "\n",
    "final_output = layers.Dense(128)(base_output)\n",
    "final_output = layers.Activation('relu')(final_output)\n",
    "final_output = layers.Dense(64)(final_output)\n",
    "final_output = layers.Activation('relu')(final_output)\n",
    "final_output = layers.Dense(7, activation='softmax')(final_output)\n",
    "\n",
    "new_model = tf.keras.Model(inputs=base_input, outputs=final_output)\n",
    "\n",
    "# Compile the model\n",
    "new_model.compile(loss=\"sparse_categorical_crossentropy\", optimizer=\"adam\", metrics=[\"accuracy\"])\n",
    "\n",
    "# Train the model\n",
    "new_model.fit(x, y, epochs=1)   # higher epochs = more iterations hence increased accuracy\n",
    "\n",
    "# Save the model\n",
    "new_model.save('low_trained_model.h5')  # .h5 says legacy, recommended to use .keras\n"
   ]
  },
  {
   "cell_type": "code",
   "execution_count": null,
   "id": "40e098c1",
   "metadata": {},
   "outputs": [],
   "source": []
  }
 ],
 "metadata": {
  "kernelspec": {
   "display_name": "Python 3 (ipykernel)",
   "language": "python",
   "name": "python3"
  },
  "language_info": {
   "codemirror_mode": {
    "name": "ipython",
    "version": 3
   },
   "file_extension": ".py",
   "mimetype": "text/x-python",
   "name": "python",
   "nbconvert_exporter": "python",
   "pygments_lexer": "ipython3",
   "version": "3.11.4"
  }
 },
 "nbformat": 4,
 "nbformat_minor": 5
}
